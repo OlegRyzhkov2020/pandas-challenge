{
 "cells": [
  {
   "cell_type": "code",
   "execution_count": 1,
   "metadata": {},
   "outputs": [],
   "source": [
    "# Dependencies and Setup\n",
    "import pandas as pd\n",
    "\n",
    "# File to Load (Remember to Change These)\n",
    "school_data_to_load = \"Resources/schools_complete.csv\"\n",
    "student_data_to_load = \"Resources/students_complete.csv\"\n",
    "\n",
    "# Read School and Student Data File and store into Pandas DataFrames\n",
    "school_data = pd.read_csv(school_data_to_load)\n",
    "student_data = pd.read_csv(student_data_to_load)\n",
    "\n",
    "# Combine the data into a single dataset.  \n",
    "school_data_complete = pd.merge(student_data, school_data, how=\"left\", on=[\"school_name\", \"school_name\"])"
   ]
  },
  {
   "cell_type": "markdown",
   "metadata": {},
   "source": [
    "# Data Preparation"
   ]
  },
  {
   "cell_type": "code",
   "execution_count": 2,
   "metadata": {},
   "outputs": [],
   "source": [
    "# Creating passing grade function\n",
    "def pass70(x):\n",
    "    return x[x>=70].count()/len(x)*100\n",
    "\n",
    "# Cleaning data \n",
    "school_data_complete['grade'] = school_data_complete['grade'].map(lambda x: int(x.replace('th','')))\n",
    "\n",
    "# Creating boolean column for passing both tests\n",
    "school_data_complete[\"both_pass\"] = (school_data_complete['math_score']>=70)&(school_data_complete['reading_score']>=70)\n",
    "\n",
    "# Set new index to school_name and assign data to the new DataFrame: df\n",
    "df = school_data_complete.set_index(\"school_name\",drop=True)\n",
    "\n",
    "# Creating passing both tests data frame and assigning values to pass_selection\n",
    "pass_df = df.loc[df['both_pass']==True]\n",
    "pass_selection = pass_df.groupby([\"both_pass\", pass_df.index])[\"both_pass\"].count().values"
   ]
  },
  {
   "cell_type": "code",
   "execution_count": 3,
   "metadata": {},
   "outputs": [],
   "source": [
    "global schools_list, grades_list\n",
    "schools_list = school_data_complete.school_name.unique()\n",
    "schools_number =len(schools_list)\n",
    "grades_list = sorted(school_data_complete.grade.unique())\n",
    "unique_stud = len(school_data_complete.student_name.unique())\n",
    "total_stud = len(school_data_complete)\n",
    "tot_budget = school_data_complete.budget.unique().sum()"
   ]
  },
  {
   "cell_type": "code",
   "execution_count": 4,
   "metadata": {},
   "outputs": [],
   "source": [
    "# Creating a New Summary Data Frame\n",
    "pass_grades_df = school_data_complete.groupby(df.index)[['math_score', 'reading_score']].agg(pass70).add_suffix(\"_%pass\")\n",
    "mean_grades_df = school_data_complete.groupby(df.index)[['math_score', 'reading_score']].mean().add_suffix(\"_avg\")\n",
    "tot_stud_df = school_data_complete.groupby(df.index)['size'].count()\n",
    "tot_budget_df = school_data_complete.groupby(df.index)['budget'].sum()/tot_stud_df\n",
    "school_type = school_data_complete.groupby(df.index)['type'].unique()\n",
    "overall_pass = pass_selection/tot_stud_df*100\n",
    "col_list = [\"School Type\", \"Total Students\", \"Total School Budget\", \"Per Student Budget\", \"% Overall Passing\"]\n",
    "df_data = list(zip(school_type, tot_stud_df, tot_budget_df, tot_budget_df/tot_stud_df, overall_pass))\n",
    "total_df = pd.DataFrame(df_data, columns = col_list)\n",
    "grades_df = mean_grades_df.merge(pass_grades_df, left_index=True, right_index=True)\n",
    "sum_df = pd.merge(total_df, grades_df, on=grades_df.index).set_index(grades_df.index)\n",
    "del sum_df['key_0']"
   ]
  },
  {
   "cell_type": "code",
   "execution_count": null,
   "metadata": {},
   "outputs": [],
   "source": []
  },
  {
   "cell_type": "markdown",
   "metadata": {},
   "source": [
    "# District Summary\n",
    "\n",
    "* Calculate the total budget\n",
    "* Calculate the total number of schools\n",
    "* Calculate the total number of students"
   ]
  },
  {
   "cell_type": "markdown",
   "metadata": {},
   "source": [
    "* Calculate the average math score\n",
    "* Calculate the average reading score\n",
    "* Calculate the percentage of students with a passing math score (70 or greater)\n",
    "* Calculate the percentage of students with a passing reading score (70 or greater)\n",
    "* Calculate the percentage of students who passed math **and** reading (% Overall Passing)\n",
    "* Create a dataframe to hold the above results\n",
    "* Optional: give the displayed data cleaner formatting"
   ]
  },
  {
   "cell_type": "code",
   "execution_count": 5,
   "metadata": {},
   "outputs": [],
   "source": [
    "def df_summary (df_sum, tot_case = False):\n",
    "    \"\"\"Summary Analysis of a DataFrame\n",
    "    Args:\n",
    "        df_sum (DataFrame): Given DataFrame\n",
    "        tot_case (bool):    False for summary per single school\n",
    "                            True for summary per set of  school\n",
    "    Returns:\n",
    "        sum_data (list): Analysis output values)\n",
    "    \"\"\"\n",
    "    global tot_num, tot_budget, schools_number\n",
    "    tot_num = len(df_sum)\n",
    "    tot_budget = df_sum.budget.unique().sum()\n",
    "    \n",
    "    if tot_case == True:\n",
    "        schools_number =len(schools_list)\n",
    "        sc_type = \"Charter/District\"\n",
    "    else: \n",
    "        sc_type = df_sum.type.all()\n",
    "        schools_number = 1\n",
    "        \n",
    "    avg_math = df_sum.math_score.sum()/tot_num\n",
    "    avg_read = df_sum.reading_score.sum()/tot_num\n",
    "    st_pass_math = len(df_sum.math_score[df_sum.math_score>=70])\n",
    "    st_pass_read = len(df_sum.reading_score[df_sum.reading_score>=70])\n",
    "    st_pass_both = len(df_sum[(df_sum.math_score>=70)\n",
    "                                                    & (df_sum.reading_score>=70)])\n",
    "    st_pass_one = len(df_sum.loc[(df_sum.math_score>=70)\n",
    "                                                    | (df_sum.reading_score>=70)])\n",
    "\n",
    "    sum_data = [schools_number, sc_type, \"{0:,}\".format(tot_num), \"${:,.2f}\".format(tot_budget), \n",
    "                tot_budget/tot_num, avg_math, avg_read, st_pass_math/tot_num*100, \n",
    "                st_pass_read/tot_num*100, st_pass_both/tot_num*100, st_pass_one/tot_num*100]\n",
    "    return sum_data"
   ]
  },
  {
   "cell_type": "code",
   "execution_count": 6,
   "metadata": {},
   "outputs": [],
   "source": [
    "col_names = {\"School Name\": [\"Number of Schools\", \"School Type\", \"Total Students\", \"Total School Budget\",\n",
    "            \"Per Student Budget\", \"Average Math Score\", \"Average Read Score\", \"% Pass Math\",\n",
    "            \"% Pass Reading\", \"% Overall Passing (Math&Read)\", \"% At Least One Test Pass\"]}\n",
    "distr_sum_df = pd.DataFrame.from_dict(col_names)\n",
    "distr_sum_df[\"_City's School District\"] = df_summary(school_data_complete, True)"
   ]
  },
  {
   "cell_type": "code",
   "execution_count": 7,
   "metadata": {},
   "outputs": [
    {
     "name": "stdout",
     "output_type": "stream",
     "text": [
      "\n",
      "District Summary, Schools by Number of Students:\n",
      "#######################################################################################################################################\n",
      "\n",
      "\n",
      "#######################################################################################################################################\n",
      "Total budget: $24,649,428\n",
      "Total number of schools:15\n"
     ]
    },
    {
     "ename": "NameError",
     "evalue": "name 'tot_stud' is not defined",
     "output_type": "error",
     "traceback": [
      "\u001b[0;31m---------------------------------------------------------------------------\u001b[0m",
      "\u001b[0;31mNameError\u001b[0m                                 Traceback (most recent call last)",
      "\u001b[0;32m<ipython-input-7-8d85ac9a6ed9>\u001b[0m in \u001b[0;36m<module>\u001b[0;34m\u001b[0m\n\u001b[1;32m      5\u001b[0m \u001b[0;34m\u001b[0m\u001b[0m\n\u001b[1;32m      6\u001b[0m \u001b[0mprint\u001b[0m\u001b[0;34m(\u001b[0m\u001b[0;34m\"\\n{}\\nTotal budget: ${:,}\\nTotal number of schools:{}\"\u001b[0m\u001b[0;34m.\u001b[0m\u001b[0mformat\u001b[0m\u001b[0;34m(\u001b[0m\u001b[0mborder\u001b[0m\u001b[0;34m,\u001b[0m \u001b[0mtot_budget\u001b[0m\u001b[0;34m,\u001b[0m \u001b[0mschools_number\u001b[0m\u001b[0;34m)\u001b[0m\u001b[0;34m)\u001b[0m\u001b[0;34m\u001b[0m\u001b[0;34m\u001b[0m\u001b[0m\n\u001b[0;32m----> 7\u001b[0;31m \u001b[0mprint\u001b[0m\u001b[0;34m(\u001b[0m\u001b[0;34m\"Total number of students: by school records - {:,}, by unique name - {:,}\\n{}\"\u001b[0m\u001b[0;34m.\u001b[0m\u001b[0mformat\u001b[0m\u001b[0;34m(\u001b[0m\u001b[0mtot_num\u001b[0m\u001b[0;34m,\u001b[0m \u001b[0mtot_stud\u001b[0m\u001b[0;34m,\u001b[0m \u001b[0mborder\u001b[0m\u001b[0;34m)\u001b[0m\u001b[0;34m)\u001b[0m\u001b[0;34m\u001b[0m\u001b[0;34m\u001b[0m\u001b[0m\n\u001b[0m\u001b[1;32m      8\u001b[0m \u001b[0mdistr_sum_df\u001b[0m\u001b[0;34m.\u001b[0m\u001b[0mtranspose\u001b[0m\u001b[0;34m(\u001b[0m\u001b[0;34m)\u001b[0m\u001b[0;34m\u001b[0m\u001b[0;34m\u001b[0m\u001b[0m\n",
      "\u001b[0;31mNameError\u001b[0m: name 'tot_stud' is not defined"
     ]
    }
   ],
   "source": [
    "border = \"#\"*135\n",
    "print(\"\\nDistrict Summary, Schools by Number of Students:\\n{}\\n\".format(border))\n",
    "pd.set_option('display.max_colwidth', 30)\n",
    "pd.options.display.float_format = '{:,.2f}'.format\n",
    "\n",
    "print(\"\\n{}\\nTotal budget: ${:,}\\nTotal number of schools:{}\".format(border, tot_budget, schools_number))\n",
    "print(\"Total number of students: by school records - {:,}, by unique name - {:,}\\n{}\".format(tot_num, tot_stud, border))\n",
    "distr_sum_df.transpose()"
   ]
  },
  {
   "cell_type": "markdown",
   "metadata": {},
   "source": [
    "## School Summary"
   ]
  },
  {
   "cell_type": "markdown",
   "metadata": {},
   "source": [
    "* Create an overview table that summarizes key metrics about each school, including:\n",
    "  * School Name\n",
    "  * School Type\n",
    "  * Total Students\n",
    "  * Total School Budget\n",
    "  * Per Student Budget\n",
    "  * Average Math Score\n",
    "  * Average Reading Score\n",
    "  * % Passing Math\n",
    "  * % Passing Reading\n",
    "  * % Overall Passing (The percentage of students that passed math **and** reading.)\n",
    "  \n",
    "* Create a dataframe to hold the above results"
   ]
  },
  {
   "cell_type": "code",
   "execution_count": null,
   "metadata": {},
   "outputs": [],
   "source": [
    "# Set new index to school_name and assign data to the new DataFrame: school_df\n",
    "school_df = school_data_complete.set_index(\"school_name\",drop=True)"
   ]
  },
  {
   "cell_type": "code",
   "execution_count": null,
   "metadata": {},
   "outputs": [],
   "source": [
    "#\n",
    "for i in range(len(schools_list)):\n",
    " distr_sum_df.insert(i+1,schools_list[i], df_summary(school_df.loc[school_df.index == schools_list[i], :]))\n",
    "transpose_df = distr_sum_df.transpose()\n",
    "transpose_df.columns = transpose_df.iloc[0]\n",
    "final_sum_df = transpose_df[1:]\n",
    "final_sum_df.sort_index(ascending = True)"
   ]
  },
  {
   "cell_type": "markdown",
   "metadata": {},
   "source": [
    "## Top Performing Schools (By % Overall Passing)"
   ]
  },
  {
   "cell_type": "markdown",
   "metadata": {},
   "source": [
    "* Sort and display the top five performing schools by % overall passing."
   ]
  },
  {
   "cell_type": "code",
   "execution_count": null,
   "metadata": {
    "scrolled": true
   },
   "outputs": [],
   "source": [
    "final_sum_df.sort_values('% Overall Passing (Math&Read)', ascending = False).head()"
   ]
  },
  {
   "cell_type": "markdown",
   "metadata": {},
   "source": [
    "## Bottom Performing Schools (By % Overall Passing)"
   ]
  },
  {
   "cell_type": "markdown",
   "metadata": {},
   "source": [
    "* Sort and display the five worst-performing schools by % overall passing."
   ]
  },
  {
   "cell_type": "code",
   "execution_count": null,
   "metadata": {},
   "outputs": [],
   "source": [
    "final_sum_df.sort_values('% Overall Passing (Math&Read)', ascending = True).head()"
   ]
  },
  {
   "cell_type": "markdown",
   "metadata": {},
   "source": [
    "## Math Scores by Grade"
   ]
  },
  {
   "cell_type": "markdown",
   "metadata": {},
   "source": [
    "* Create a table that lists the average Reading Score for students of each grade level (9th, 10th, 11th, 12th) at each school.\n",
    "\n",
    "  * Create a pandas series for each grade. Hint: use a conditional statement.\n",
    "  \n",
    "  * Group each series by school\n",
    "  \n",
    "  * Combine the series into a dataframe\n",
    "  \n",
    "  * Optional: give the displayed data cleaner formatting"
   ]
  },
  {
   "cell_type": "code",
   "execution_count": null,
   "metadata": {},
   "outputs": [],
   "source": [
    "def grades_summary (df_grades, score):\n",
    "    \"\"\"Summary Analysis of a DataFrame over Grade Score\n",
    "    Args:\n",
    "        df_grades (DataFrame): Given DataFrame\n",
    "        score (str):    Type of score for analysis\n",
    "    Returns:\n",
    "        df (DataFrame): Analysis output\n",
    "    \"\"\"\n",
    "    df = pd.DataFrame()\n",
    "    mean_list =[]\n",
    "    for i in range(len(schools_list)):\n",
    "        for j in range(len(grades_list)):\n",
    "            group_df = df_grades.loc[school_df[\"grade\"]==grades_list[j]]\n",
    "            mean_list.append(group_df.loc[group_df.index == schools_list[i],:][score].mean())\n",
    "        df.insert(i, schools_list[i], mean_list)\n",
    "        mean_list=[]\n",
    "    df.insert(i+1, \"School Name\", grades_list)\n",
    "    df = df.set_index(\"School Name\").transpose().add_suffix(\"th\")\n",
    "    return df"
   ]
  },
  {
   "cell_type": "code",
   "execution_count": null,
   "metadata": {},
   "outputs": [],
   "source": [
    "grades_summary(school_df, 'math_score').sort_index()"
   ]
  },
  {
   "cell_type": "markdown",
   "metadata": {},
   "source": [
    "## Reading Score by Grade "
   ]
  },
  {
   "cell_type": "markdown",
   "metadata": {},
   "source": [
    "* Perform the same operations as above for reading scores"
   ]
  },
  {
   "cell_type": "code",
   "execution_count": null,
   "metadata": {},
   "outputs": [],
   "source": [
    "grades_summary(school_df, 'reading_score').sort_index()"
   ]
  },
  {
   "cell_type": "markdown",
   "metadata": {},
   "source": [
    "## Scores by School Spending"
   ]
  },
  {
   "cell_type": "markdown",
   "metadata": {},
   "source": [
    "* Create a table that breaks down school performances based on average Spending Ranges (Per Student). Use 4 reasonable bins to group school spending. Include in the table each of the following:\n",
    "  * Average Math Score\n",
    "  * Average Reading Score\n",
    "  * % Passing Math\n",
    "  * % Passing Reading\n",
    "  * Overall Passing Rate (Average of the above two)"
   ]
  },
  {
   "cell_type": "code",
   "execution_count": null,
   "metadata": {},
   "outputs": [],
   "source": [
    "final_df = final_sum_df.drop(\"_City's School District\", axis=0).sort_index()\n",
    "budget_df = final_df.loc[:,['Per Student Budget', 'Average Math Score', 'Average Read Score',\n",
    "                                '% Pass Math', '% Pass Reading', '% Overall Passing (Math&Read)']]\n",
    "bins = [0, 584, 629, 644, 675]\n",
    "group_names = [\"<584\", \"585-629\", \"630-644\", \"645-675\"]\n",
    "budget_df[\"Spending Ranges\"] = pd.cut(budget_df[\"Per Student Budget\"], bins, right = True, labels=group_names)\n",
    "budget_df = budget_df.groupby(\"Spending Ranges\").max()\n",
    "del budget_df['Per Student Budget']\n",
    "budget_df"
   ]
  },
  {
   "cell_type": "markdown",
   "metadata": {},
   "source": [
    "## Scores by School Size"
   ]
  },
  {
   "cell_type": "markdown",
   "metadata": {},
   "source": [
    "* Perform the same operations as above, based on school size."
   ]
  },
  {
   "cell_type": "code",
   "execution_count": null,
   "metadata": {},
   "outputs": [],
   "source": [
    "def pass70(x):\n",
    "    return x[x>=70].count()/len(x)*100\n",
    "scores_size = school_data_complete.groupby(['size'])[['math_score','reading_score']].agg(['mean', pass70])\n",
    "scores_size['% Overal pass'] = final_df['% Overall Passing (Math&Read)'].values\n",
    "scores_size = scores_size.reset_index()"
   ]
  },
  {
   "cell_type": "code",
   "execution_count": null,
   "metadata": {},
   "outputs": [],
   "source": [
    "bins = [0, 1000, 2000, 5000]\n",
    "group_names = [\"<1000\", \"1000-2000\", \"2000-5000\"]\n",
    "scores_size[\"School Size\"] = pd.cut(scores_size['size'], bins, right = True, labels=group_names, include_lowest=True)\n",
    "scores_size = scores_size.groupby(\"School Size\").max()\n",
    "scores_size"
   ]
  },
  {
   "cell_type": "markdown",
   "metadata": {},
   "source": [
    "## Scores by School Type"
   ]
  },
  {
   "cell_type": "markdown",
   "metadata": {},
   "source": [
    "* Perform the same operations as above, based on school type"
   ]
  },
  {
   "cell_type": "code",
   "execution_count": 56,
   "metadata": {},
   "outputs": [
    {
     "data": {
      "text/plain": [
       "both_pass  type    \n",
       "False      Charter      1151\n",
       "           District    12491\n",
       "True       Charter     11043\n",
       "           District    14485\n",
       "Name: both_pass, dtype: int64"
      ]
     },
     "execution_count": 56,
     "metadata": {},
     "output_type": "execute_result"
    }
   ],
   "source": [
    "scores_type = school_data_complete.groupby('type')[['math_score','reading_score']].agg(['mean', pass70])\n",
    "pass_type = df.groupby(['both_pass', 'type'])['both_pass'].count()\n",
    "# pass_df = pass_df.loc[pass_df['type']=='Charter']\n",
    "# pass_selection = pass_df.groupby([\"both_pass\", 'type', pass_df.index])[\"both_pass\"].count().values.sum()\n",
    "# scores_type['% Overal pass'] = final_df['% Overall Passing (Math&Read)'].values\n",
    "pass_type"
   ]
  },
  {
   "cell_type": "markdown",
   "metadata": {},
   "source": [
    "# Trends in School Performance\n",
    "\n",
    "* Scores Distribution (Math vs Reading)\n",
    "* Overall Passing (Both Test vs At Least One)"
   ]
  },
  {
   "cell_type": "code",
   "execution_count": 14,
   "metadata": {},
   "outputs": [
    {
     "name": "stdout",
     "output_type": "stream",
     "text": [
      "\n",
      "Trend 1: Overall performance in reding is better over math\n",
      "\n"
     ]
    },
    {
     "data": {
      "image/png": "[encoded data removed]",
      "text/plain": [
       "<Figure size 432x288 with 1 Axes>"
      ]
     },
     "metadata": {
      "needs_background": "light"
     },
     "output_type": "display_data"
    }
   ],
   "source": [
    "math = school_data_complete['math_score'].value_counts()\n",
    "read = school_data_complete['reading_score'].value_counts()\n",
    "math.plot(kind='line', title=\"Frequecy of Scores, Math vs Reading\", legend = True)\n",
    "read.plot(kind='line', legend = True)\n",
    "print(\"\\nTrend 1: Overall performance in reding is better over math\\n\")"
   ]
  },
  {
   "cell_type": "code",
   "execution_count": null,
   "metadata": {},
   "outputs": [],
   "source": [
    "both_tests_pass = final_sum_df['% Overall Passing (Math&Read)'].sort_values()\n",
    "one_test_pass = final_sum_df['% At Least One Test Pass'].sort_values()\n",
    "one_test_pass.plot(kind = 'line', title=\"Passing Scores across Schools\", stacked = True, colormap = 'flag', legend = True, rot=90)\n",
    "both_tests_pass.plot(kind = 'bar', stacked = True, colormap = 'winter', legend = True, rot=90)\n",
    "print(\"\\nTrend 2:\\nOverall performance in passing at least one test is\\nbetter over passing both tests\")"
   ]
  },
  {
   "cell_type": "code",
   "execution_count": 11,
   "metadata": {},
   "outputs": [
    {
     "data": {
      "text/html": [
       "<div>\n",
       "<style scoped>\n",
       "    .dataframe tbody tr th:only-of-type {\n",
       "        vertical-align: middle;\n",
       "    }\n",
       "\n",
       "    .dataframe tbody tr th {\n",
       "        vertical-align: top;\n",
       "    }\n",
       "\n",
       "    .dataframe thead th {\n",
       "        text-align: right;\n",
       "    }\n",
       "</style>\n",
       "<table border=\"1\" class=\"dataframe\">\n",
       "  <thead>\n",
       "    <tr style=\"text-align: right;\">\n",
       "      <th></th>\n",
       "      <th>School Type</th>\n",
       "      <th>Total Students</th>\n",
       "      <th>Total School Budget</th>\n",
       "      <th>Per Student Budget</th>\n",
       "      <th>% Overall Passing</th>\n",
       "      <th>math_score_avg</th>\n",
       "      <th>reading_score_avg</th>\n",
       "      <th>math_score_%pass</th>\n",
       "      <th>reading_score_%pass</th>\n",
       "    </tr>\n",
       "    <tr>\n",
       "      <th>school_name</th>\n",
       "      <th></th>\n",
       "      <th></th>\n",
       "      <th></th>\n",
       "      <th></th>\n",
       "      <th></th>\n",
       "      <th></th>\n",
       "      <th></th>\n",
       "      <th></th>\n",
       "      <th></th>\n",
       "    </tr>\n",
       "  </thead>\n",
       "  <tbody>\n",
       "    <tr>\n",
       "      <th>Bailey High School</th>\n",
       "      <td>[District]</td>\n",
       "      <td>4976</td>\n",
       "      <td>3,124,928.00</td>\n",
       "      <td>628.00</td>\n",
       "      <td>54.64</td>\n",
       "      <td>77.05</td>\n",
       "      <td>81.03</td>\n",
       "      <td>66.68</td>\n",
       "      <td>81.93</td>\n",
       "    </tr>\n",
       "    <tr>\n",
       "      <th>Cabrera High School</th>\n",
       "      <td>[Charter]</td>\n",
       "      <td>1858</td>\n",
       "      <td>1,081,356.00</td>\n",
       "      <td>582.00</td>\n",
       "      <td>91.33</td>\n",
       "      <td>83.06</td>\n",
       "      <td>83.98</td>\n",
       "      <td>94.13</td>\n",
       "      <td>97.04</td>\n",
       "    </tr>\n",
       "    <tr>\n",
       "      <th>Figueroa High School</th>\n",
       "      <td>[District]</td>\n",
       "      <td>2949</td>\n",
       "      <td>1,884,411.00</td>\n",
       "      <td>639.00</td>\n",
       "      <td>53.20</td>\n",
       "      <td>76.71</td>\n",
       "      <td>81.16</td>\n",
       "      <td>65.99</td>\n",
       "      <td>80.74</td>\n",
       "    </tr>\n",
       "    <tr>\n",
       "      <th>Ford High School</th>\n",
       "      <td>[District]</td>\n",
       "      <td>2739</td>\n",
       "      <td>1,763,916.00</td>\n",
       "      <td>644.00</td>\n",
       "      <td>54.29</td>\n",
       "      <td>77.10</td>\n",
       "      <td>80.75</td>\n",
       "      <td>68.31</td>\n",
       "      <td>79.30</td>\n",
       "    </tr>\n",
       "    <tr>\n",
       "      <th>Griffin High School</th>\n",
       "      <td>[Charter]</td>\n",
       "      <td>1468</td>\n",
       "      <td>917,500.00</td>\n",
       "      <td>625.00</td>\n",
       "      <td>90.60</td>\n",
       "      <td>83.35</td>\n",
       "      <td>83.82</td>\n",
       "      <td>93.39</td>\n",
       "      <td>97.14</td>\n",
       "    </tr>\n",
       "    <tr>\n",
       "      <th>Hernandez High School</th>\n",
       "      <td>[District]</td>\n",
       "      <td>4635</td>\n",
       "      <td>3,022,020.00</td>\n",
       "      <td>652.00</td>\n",
       "      <td>53.53</td>\n",
       "      <td>77.29</td>\n",
       "      <td>80.93</td>\n",
       "      <td>66.75</td>\n",
       "      <td>80.86</td>\n",
       "    </tr>\n",
       "    <tr>\n",
       "      <th>Holden High School</th>\n",
       "      <td>[Charter]</td>\n",
       "      <td>427</td>\n",
       "      <td>248,087.00</td>\n",
       "      <td>581.00</td>\n",
       "      <td>89.23</td>\n",
       "      <td>83.80</td>\n",
       "      <td>83.81</td>\n",
       "      <td>92.51</td>\n",
       "      <td>96.25</td>\n",
       "    </tr>\n",
       "    <tr>\n",
       "      <th>Huang High School</th>\n",
       "      <td>[District]</td>\n",
       "      <td>2917</td>\n",
       "      <td>1,910,635.00</td>\n",
       "      <td>655.00</td>\n",
       "      <td>53.51</td>\n",
       "      <td>76.63</td>\n",
       "      <td>81.18</td>\n",
       "      <td>65.68</td>\n",
       "      <td>81.32</td>\n",
       "    </tr>\n",
       "    <tr>\n",
       "      <th>Johnson High School</th>\n",
       "      <td>[District]</td>\n",
       "      <td>4761</td>\n",
       "      <td>3,094,650.00</td>\n",
       "      <td>650.00</td>\n",
       "      <td>53.54</td>\n",
       "      <td>77.07</td>\n",
       "      <td>80.97</td>\n",
       "      <td>66.06</td>\n",
       "      <td>81.22</td>\n",
       "    </tr>\n",
       "    <tr>\n",
       "      <th>Pena High School</th>\n",
       "      <td>[Charter]</td>\n",
       "      <td>962</td>\n",
       "      <td>585,858.00</td>\n",
       "      <td>609.00</td>\n",
       "      <td>90.54</td>\n",
       "      <td>83.84</td>\n",
       "      <td>84.04</td>\n",
       "      <td>94.59</td>\n",
       "      <td>95.95</td>\n",
       "    </tr>\n",
       "    <tr>\n",
       "      <th>Rodriguez High School</th>\n",
       "      <td>[District]</td>\n",
       "      <td>3999</td>\n",
       "      <td>2,547,363.00</td>\n",
       "      <td>637.00</td>\n",
       "      <td>52.99</td>\n",
       "      <td>76.84</td>\n",
       "      <td>80.74</td>\n",
       "      <td>66.37</td>\n",
       "      <td>80.22</td>\n",
       "    </tr>\n",
       "    <tr>\n",
       "      <th>Shelton High School</th>\n",
       "      <td>[Charter]</td>\n",
       "      <td>1761</td>\n",
       "      <td>1,056,600.00</td>\n",
       "      <td>600.00</td>\n",
       "      <td>89.89</td>\n",
       "      <td>83.36</td>\n",
       "      <td>83.73</td>\n",
       "      <td>93.87</td>\n",
       "      <td>95.85</td>\n",
       "    </tr>\n",
       "    <tr>\n",
       "      <th>Thomas High School</th>\n",
       "      <td>[Charter]</td>\n",
       "      <td>1635</td>\n",
       "      <td>1,043,130.00</td>\n",
       "      <td>638.00</td>\n",
       "      <td>90.95</td>\n",
       "      <td>83.42</td>\n",
       "      <td>83.85</td>\n",
       "      <td>93.27</td>\n",
       "      <td>97.31</td>\n",
       "    </tr>\n",
       "    <tr>\n",
       "      <th>Wilson High School</th>\n",
       "      <td>[Charter]</td>\n",
       "      <td>2283</td>\n",
       "      <td>1,319,574.00</td>\n",
       "      <td>578.00</td>\n",
       "      <td>90.58</td>\n",
       "      <td>83.27</td>\n",
       "      <td>83.99</td>\n",
       "      <td>93.87</td>\n",
       "      <td>96.54</td>\n",
       "    </tr>\n",
       "    <tr>\n",
       "      <th>Wright High School</th>\n",
       "      <td>[Charter]</td>\n",
       "      <td>1800</td>\n",
       "      <td>1,049,400.00</td>\n",
       "      <td>583.00</td>\n",
       "      <td>90.33</td>\n",
       "      <td>83.68</td>\n",
       "      <td>83.95</td>\n",
       "      <td>93.33</td>\n",
       "      <td>96.61</td>\n",
       "    </tr>\n",
       "  </tbody>\n",
       "</table>\n",
       "</div>"
      ],
      "text/plain": [
       "                      School Type  Total Students  Total School Budget  \\\n",
       "school_name                                                              \n",
       "Bailey High School     [District]            4976         3,124,928.00   \n",
       "Cabrera High School     [Charter]            1858         1,081,356.00   \n",
       "Figueroa High School   [District]            2949         1,884,411.00   \n",
       "Ford High School       [District]            2739         1,763,916.00   \n",
       "Griffin High School     [Charter]            1468           917,500.00   \n",
       "Hernandez High School  [District]            4635         3,022,020.00   \n",
       "Holden High School      [Charter]             427           248,087.00   \n",
       "Huang High School      [District]            2917         1,910,635.00   \n",
       "Johnson High School    [District]            4761         3,094,650.00   \n",
       "Pena High School        [Charter]             962           585,858.00   \n",
       "Rodriguez High School  [District]            3999         2,547,363.00   \n",
       "Shelton High School     [Charter]            1761         1,056,600.00   \n",
       "Thomas High School      [Charter]            1635         1,043,130.00   \n",
       "Wilson High School      [Charter]            2283         1,319,574.00   \n",
       "Wright High School      [Charter]            1800         1,049,400.00   \n",
       "\n",
       "                       Per Student Budget  % Overall Passing  math_score_avg  \\\n",
       "school_name                                                                    \n",
       "Bailey High School                 628.00              54.64           77.05   \n",
       "Cabrera High School                582.00              91.33           83.06   \n",
       "Figueroa High School               639.00              53.20           76.71   \n",
       "Ford High School                   644.00              54.29           77.10   \n",
       "Griffin High School                625.00              90.60           83.35   \n",
       "Hernandez High School              652.00              53.53           77.29   \n",
       "Holden High School                 581.00              89.23           83.80   \n",
       "Huang High School                  655.00              53.51           76.63   \n",
       "Johnson High School                650.00              53.54           77.07   \n",
       "Pena High School                   609.00              90.54           83.84   \n",
       "Rodriguez High School              637.00              52.99           76.84   \n",
       "Shelton High School                600.00              89.89           83.36   \n",
       "Thomas High School                 638.00              90.95           83.42   \n",
       "Wilson High School                 578.00              90.58           83.27   \n",
       "Wright High School                 583.00              90.33           83.68   \n",
       "\n",
       "                       reading_score_avg  math_score_%pass  \\\n",
       "school_name                                                  \n",
       "Bailey High School                 81.03             66.68   \n",
       "Cabrera High School                83.98             94.13   \n",
       "Figueroa High School               81.16             65.99   \n",
       "Ford High School                   80.75             68.31   \n",
       "Griffin High School                83.82             93.39   \n",
       "Hernandez High School              80.93             66.75   \n",
       "Holden High School                 83.81             92.51   \n",
       "Huang High School                  81.18             65.68   \n",
       "Johnson High School                80.97             66.06   \n",
       "Pena High School                   84.04             94.59   \n",
       "Rodriguez High School              80.74             66.37   \n",
       "Shelton High School                83.73             93.87   \n",
       "Thomas High School                 83.85             93.27   \n",
       "Wilson High School                 83.99             93.87   \n",
       "Wright High School                 83.95             93.33   \n",
       "\n",
       "                       reading_score_%pass  \n",
       "school_name                                 \n",
       "Bailey High School                   81.93  \n",
       "Cabrera High School                  97.04  \n",
       "Figueroa High School                 80.74  \n",
       "Ford High School                     79.30  \n",
       "Griffin High School                  97.14  \n",
       "Hernandez High School                80.86  \n",
       "Holden High School                   96.25  \n",
       "Huang High School                    81.32  \n",
       "Johnson High School                  81.22  \n",
       "Pena High School                     95.95  \n",
       "Rodriguez High School                80.22  \n",
       "Shelton High School                  95.85  \n",
       "Thomas High School                   97.31  \n",
       "Wilson High School                   96.54  \n",
       "Wright High School                   96.61  "
      ]
     },
     "execution_count": 11,
     "metadata": {},
     "output_type": "execute_result"
    }
   ],
   "source": [
    "sum_df"
   ]
  },
  {
   "cell_type": "code",
   "execution_count": 18,
   "metadata": {},
   "outputs": [
    {
     "data": {
      "text/plain": [
       "<matplotlib.axes._subplots.AxesSubplot at 0x7ffec21bc790>"
      ]
     },
     "execution_count": 18,
     "metadata": {},
     "output_type": "execute_result"
    },
    {
     "data": {
      "image/png": "[encoded data removed]",
      "text/plain": [
       "<Figure size 432x288 with 1 Axes>"
      ]
     },
     "metadata": {
      "needs_background": "light"
     },
     "output_type": "display_data"
    }
   ],
   "source": [
    "ov_pass = sum_df['% Overall Passing'].sort_values()\n",
    "budget = sum_df['Per Student Budget'].sort_values()\n",
    "ov_pass.plot(kind='line', colormap = 'winter', legend = True, rot=90)"
   ]
  }
 ],
 "metadata": {
  "anaconda-cloud": {},
  "kernel_info": {
   "name": "python3"
  },
  "kernelspec": {
   "display_name": "Python 3",
   "language": "python",
   "name": "python3"
  },
  "language_info": {
   "codemirror_mode": {
    "name": "ipython",
    "version": 3
   },
   "file_extension": ".py",
   "mimetype": "text/x-python",
   "name": "python",
   "nbconvert_exporter": "python",
   "pygments_lexer": "ipython3",
   "version": "3.8.2"
  },
  "latex_envs": {
   "LaTeX_envs_menu_present": true,
   "autoclose": false,
   "autocomplete": true,
   "bibliofile": "biblio.bib",
   "cite_by": "apalike",
   "current_citInitial": 1,
   "eqLabelWithNumbers": true,
   "eqNumInitial": 1,
   "hotkeys": {
    "equation": "Ctrl-E",
    "itemize": "Ctrl-I"
   },
   "labels_anchors": false,
   "latex_user_defs": false,
   "report_style_numbering": false,
   "user_envs_cfg": false
  },
  "nteract": {
   "version": "0.8.4"
  }
 },
 "nbformat": 4,
 "nbformat_minor": 4
}
