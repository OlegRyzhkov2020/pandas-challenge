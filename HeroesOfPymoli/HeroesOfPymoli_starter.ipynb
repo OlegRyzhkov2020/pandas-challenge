{
 "cells": [
  {
   "cell_type": "code",
   "execution_count": 1,
   "metadata": {},
   "outputs": [],
   "source": [
    "%matplotlib inline"
   ]
  },
  {
   "cell_type": "code",
   "execution_count": 2,
   "metadata": {},
   "outputs": [],
   "source": [
    "# Dependencies and Setup\n",
    "import pandas as pd\n",
    "import numpy as np\n",
    "from matplotlib import pyplot as plt\n",
    "from scipy.stats import linregress\n",
    "import statsmodels.formula.api as smf\n",
    "from empiricaldist import Pmf\n",
    "import time\n",
    "\n",
    "# record time before execution\n",
    "start_time = time.time()"
   ]
  },
  {
   "cell_type": "markdown",
   "metadata": {},
   "source": [
    "# Data Preparation"
   ]
  },
  {
   "cell_type": "code",
   "execution_count": 3,
   "metadata": {},
   "outputs": [],
   "source": [
    "# File to Load (Remember to Change These)\n",
    "file_to_load = \"Resources/purchase_data.csv\"\n",
    "\n",
    "# Read Purchasing File and store into Pandas data frame\n",
    "purchase_data = pd.read_csv(file_to_load)\n",
    "\n",
    "# Creating functions for dataset analysis\n",
    "purchase_data['Purchase ID']= 'Heroes_of_Pymoli'\n",
    "tot_players = purchase_data['SN'].nunique()\n",
    "def len_unique (x):\n",
    "    return len(x.unique())\n",
    "def percentage (x):\n",
    "    return len_unique(x)/tot_players*100\n",
    "def analysis (x):\n",
    "    df_analysis = purchase_data.groupby(x).agg(Number_of_Players = (\"SN\", len_unique), \n",
    "                                                        Percent_of_Players = (\"SN\", percentage), \n",
    "                                                        Number_of_Unique_Items = (\"Item Name\", len_unique),\n",
    "                                                        Average_Price_USD = (\"Price\", 'mean'), \n",
    "                                                        Number_of_Purchases = (\"Price\", 'count'), \n",
    "                                                        Purchase_Value_USD = (\"Price\", 'sum'))\n",
    "    df_analysis['Purchase_Value_per_Person'] = df_analysis['Purchase_Value_USD']/df_analysis['Number_of_Players']\n",
    "    return df_analysis\n",
    "\n",
    "pd.options.display.float_format = '{:,.2f}'.format"
   ]
  },
  {
   "cell_type": "markdown",
   "metadata": {},
   "source": [
    "## Total Purchasing Analysis"
   ]
  },
  {
   "cell_type": "code",
   "execution_count": 4,
   "metadata": {},
   "outputs": [
    {
     "data": {
      "text/html": [
       "<div>\n",
       "<style scoped>\n",
       "    .dataframe tbody tr th:only-of-type {\n",
       "        vertical-align: middle;\n",
       "    }\n",
       "\n",
       "    .dataframe tbody tr th {\n",
       "        vertical-align: top;\n",
       "    }\n",
       "\n",
       "    .dataframe thead th {\n",
       "        text-align: right;\n",
       "    }\n",
       "</style>\n",
       "<table border=\"1\" class=\"dataframe\">\n",
       "  <thead>\n",
       "    <tr style=\"text-align: right;\">\n",
       "      <th></th>\n",
       "      <th>Number_of_Players</th>\n",
       "      <th>Percent_of_Players</th>\n",
       "      <th>Number_of_Unique_Items</th>\n",
       "      <th>Average_Price_USD</th>\n",
       "      <th>Number_of_Purchases</th>\n",
       "      <th>Purchase_Value_USD</th>\n",
       "      <th>Purchase_Value_per_Person</th>\n",
       "    </tr>\n",
       "    <tr>\n",
       "      <th>Purchase ID</th>\n",
       "      <th></th>\n",
       "      <th></th>\n",
       "      <th></th>\n",
       "      <th></th>\n",
       "      <th></th>\n",
       "      <th></th>\n",
       "      <th></th>\n",
       "    </tr>\n",
       "  </thead>\n",
       "  <tbody>\n",
       "    <tr>\n",
       "      <th>Heroes_of_Pymoli</th>\n",
       "      <td>576</td>\n",
       "      <td>100.00</td>\n",
       "      <td>179</td>\n",
       "      <td>3.05</td>\n",
       "      <td>780</td>\n",
       "      <td>2,379.77</td>\n",
       "      <td>4.13</td>\n",
       "    </tr>\n",
       "  </tbody>\n",
       "</table>\n",
       "</div>"
      ],
      "text/plain": [
       "                  Number_of_Players  Percent_of_Players  \\\n",
       "Purchase ID                                               \n",
       "Heroes_of_Pymoli                576              100.00   \n",
       "\n",
       "                  Number_of_Unique_Items  Average_Price_USD  \\\n",
       "Purchase ID                                                   \n",
       "Heroes_of_Pymoli                     179               3.05   \n",
       "\n",
       "                  Number_of_Purchases  Purchase_Value_USD  \\\n",
       "Purchase ID                                                 \n",
       "Heroes_of_Pymoli                  780            2,379.77   \n",
       "\n",
       "                  Purchase_Value_per_Person  \n",
       "Purchase ID                                  \n",
       "Heroes_of_Pymoli                       4.13  "
      ]
     },
     "execution_count": 4,
     "metadata": {},
     "output_type": "execute_result"
    }
   ],
   "source": [
    "analysis('Purchase ID')"
   ]
  },
  {
   "cell_type": "markdown",
   "metadata": {},
   "source": [
    "## Gender Demographics and Purchasing Analysis by Gender"
   ]
  },
  {
   "cell_type": "code",
   "execution_count": 5,
   "metadata": {},
   "outputs": [
    {
     "data": {
      "text/html": [
       "<div>\n",
       "<style scoped>\n",
       "    .dataframe tbody tr th:only-of-type {\n",
       "        vertical-align: middle;\n",
       "    }\n",
       "\n",
       "    .dataframe tbody tr th {\n",
       "        vertical-align: top;\n",
       "    }\n",
       "\n",
       "    .dataframe thead th {\n",
       "        text-align: right;\n",
       "    }\n",
       "</style>\n",
       "<table border=\"1\" class=\"dataframe\">\n",
       "  <thead>\n",
       "    <tr style=\"text-align: right;\">\n",
       "      <th></th>\n",
       "      <th>Number_of_Players</th>\n",
       "      <th>Percent_of_Players</th>\n",
       "      <th>Number_of_Unique_Items</th>\n",
       "      <th>Average_Price_USD</th>\n",
       "      <th>Number_of_Purchases</th>\n",
       "      <th>Purchase_Value_USD</th>\n",
       "      <th>Purchase_Value_per_Person</th>\n",
       "    </tr>\n",
       "    <tr>\n",
       "      <th>Gender</th>\n",
       "      <th></th>\n",
       "      <th></th>\n",
       "      <th></th>\n",
       "      <th></th>\n",
       "      <th></th>\n",
       "      <th></th>\n",
       "      <th></th>\n",
       "    </tr>\n",
       "  </thead>\n",
       "  <tbody>\n",
       "    <tr>\n",
       "      <th>Female</th>\n",
       "      <td>81</td>\n",
       "      <td>14.06</td>\n",
       "      <td>90</td>\n",
       "      <td>3.20</td>\n",
       "      <td>113</td>\n",
       "      <td>361.94</td>\n",
       "      <td>4.47</td>\n",
       "    </tr>\n",
       "    <tr>\n",
       "      <th>Male</th>\n",
       "      <td>484</td>\n",
       "      <td>84.03</td>\n",
       "      <td>178</td>\n",
       "      <td>3.02</td>\n",
       "      <td>652</td>\n",
       "      <td>1,967.64</td>\n",
       "      <td>4.07</td>\n",
       "    </tr>\n",
       "    <tr>\n",
       "      <th>Other / Non-Disclosed</th>\n",
       "      <td>11</td>\n",
       "      <td>1.91</td>\n",
       "      <td>13</td>\n",
       "      <td>3.35</td>\n",
       "      <td>15</td>\n",
       "      <td>50.19</td>\n",
       "      <td>4.56</td>\n",
       "    </tr>\n",
       "  </tbody>\n",
       "</table>\n",
       "</div>"
      ],
      "text/plain": [
       "                       Number_of_Players  Percent_of_Players  \\\n",
       "Gender                                                         \n",
       "Female                                81               14.06   \n",
       "Male                                 484               84.03   \n",
       "Other / Non-Disclosed                 11                1.91   \n",
       "\n",
       "                       Number_of_Unique_Items  Average_Price_USD  \\\n",
       "Gender                                                             \n",
       "Female                                     90               3.20   \n",
       "Male                                      178               3.02   \n",
       "Other / Non-Disclosed                      13               3.35   \n",
       "\n",
       "                       Number_of_Purchases  Purchase_Value_USD  \\\n",
       "Gender                                                           \n",
       "Female                                 113              361.94   \n",
       "Male                                   652            1,967.64   \n",
       "Other / Non-Disclosed                   15               50.19   \n",
       "\n",
       "                       Purchase_Value_per_Person  \n",
       "Gender                                            \n",
       "Female                                      4.47  \n",
       "Male                                        4.07  \n",
       "Other / Non-Disclosed                       4.56  "
      ]
     },
     "execution_count": 5,
     "metadata": {},
     "output_type": "execute_result"
    }
   ],
   "source": [
    "analysis('Gender')"
   ]
  },
  {
   "cell_type": "markdown",
   "metadata": {},
   "source": [
    "## Age Demographics and Purchasing Analysis by Age"
   ]
  },
  {
   "cell_type": "code",
   "execution_count": 6,
   "metadata": {},
   "outputs": [],
   "source": [
    "age_df = analysis('Age')"
   ]
  },
  {
   "cell_type": "code",
   "execution_count": 7,
   "metadata": {},
   "outputs": [
    {
     "data": {
      "text/plain": [
       "Text(0.5, 1.0, 'Number of players over age')"
      ]
     },
     "execution_count": 7,
     "metadata": {},
     "output_type": "execute_result"
    },
    {
     "data": {
      "image/png": "[encoded data removed]",
      "text/plain": [
       "<Figure size 432x288 with 1 Axes>"
      ]
     },
     "metadata": {
      "needs_background": "light"
     },
     "output_type": "display_data"
    }
   ],
   "source": [
    "#Exploring DataSet with Probability Mass Function\n",
    "num_players=age_df['Number_of_Players']\n",
    "Pmf(num_players).bar()\n",
    "plt.xlabel('Age in years')\n",
    "plt.ylabel('PMF')\n",
    "plt.title(\"Number of players over age\")"
   ]
  },
  {
   "cell_type": "code",
   "execution_count": 8,
   "metadata": {},
   "outputs": [],
   "source": [
    "age_df=age_df.reset_index()"
   ]
  },
  {
   "cell_type": "code",
   "execution_count": 9,
   "metadata": {},
   "outputs": [
    {
     "data": {
      "image/png": "[encoded data removed]",
      "text/plain": [
       "<Figure size 432x288 with 1 Axes>"
      ]
     },
     "metadata": {
      "needs_background": "light"
     },
     "output_type": "display_data"
    }
   ],
   "source": [
    "# Evaluating a linear relationship between Average price and Purchase value per person\n",
    "# Extract data\n",
    "data = age_df.dropna(subset=['Average_Price_USD', 'Purchase_Value_per_Person'])\n",
    "xs = data['Average_Price_USD']\n",
    "ys = data['Purchase_Value_per_Person']\n",
    "\n",
    "# Compute the linear regression\n",
    "res = linregress(xs, ys)\n",
    "\n",
    "# Plot the scatter plot\n",
    "plt.clf()\n",
    "x_jitter = xs + np.random.normal(0, 0.15, len(xs))\n",
    "plt.plot(x_jitter, ys, 'o', alpha=0.7)\n",
    "\n",
    "# Plot the line of best fit\n",
    "fx = np.array([xs.min(), xs.max()])\n",
    "fy = res.intercept + res.slope * fx\n",
    "plt.plot(fx, fy, '-', alpha=2)\n",
    "\n",
    "plt.xlabel('Average price, $')\n",
    "plt.ylabel('Purchase value per person, $')\n",
    "plt.ylim([1.5, 5.5])\n",
    "plt.xlim([1.5, 4.5])\n",
    "plt.show()"
   ]
  },
  {
   "cell_type": "code",
   "execution_count": 10,
   "metadata": {},
   "outputs": [
    {
     "data": {
      "text/html": [
       "<div>\n",
       "<style scoped>\n",
       "    .dataframe tbody tr th:only-of-type {\n",
       "        vertical-align: middle;\n",
       "    }\n",
       "\n",
       "    .dataframe tbody tr th {\n",
       "        vertical-align: top;\n",
       "    }\n",
       "\n",
       "    .dataframe thead th {\n",
       "        text-align: right;\n",
       "    }\n",
       "</style>\n",
       "<table border=\"1\" class=\"dataframe\">\n",
       "  <thead>\n",
       "    <tr style=\"text-align: right;\">\n",
       "      <th></th>\n",
       "      <th>Purchase_Count</th>\n",
       "      <th>Average_Purchase_Price</th>\n",
       "      <th>Total_Purchase_Value</th>\n",
       "      <th>Avg_Total_Purchase_per_Person</th>\n",
       "    </tr>\n",
       "    <tr>\n",
       "      <th>Age Ranges</th>\n",
       "      <th></th>\n",
       "      <th></th>\n",
       "      <th></th>\n",
       "      <th></th>\n",
       "    </tr>\n",
       "  </thead>\n",
       "  <tbody>\n",
       "    <tr>\n",
       "      <th>&lt;10</th>\n",
       "      <td>23</td>\n",
       "      <td>3.32</td>\n",
       "      <td>77.13</td>\n",
       "      <td>4.53</td>\n",
       "    </tr>\n",
       "    <tr>\n",
       "      <th>10-14</th>\n",
       "      <td>28</td>\n",
       "      <td>2.93</td>\n",
       "      <td>82.78</td>\n",
       "      <td>3.65</td>\n",
       "    </tr>\n",
       "    <tr>\n",
       "      <th>15-19</th>\n",
       "      <td>127</td>\n",
       "      <td>3.03</td>\n",
       "      <td>412.89</td>\n",
       "      <td>3.85</td>\n",
       "    </tr>\n",
       "    <tr>\n",
       "      <th>20-24</th>\n",
       "      <td>306</td>\n",
       "      <td>3.04</td>\n",
       "      <td>1,114.06</td>\n",
       "      <td>4.30</td>\n",
       "    </tr>\n",
       "    <tr>\n",
       "      <th>25-29</th>\n",
       "      <td>91</td>\n",
       "      <td>2.62</td>\n",
       "      <td>293.00</td>\n",
       "      <td>3.31</td>\n",
       "    </tr>\n",
       "    <tr>\n",
       "      <th>30-34</th>\n",
       "      <td>72</td>\n",
       "      <td>2.87</td>\n",
       "      <td>214.00</td>\n",
       "      <td>4.01</td>\n",
       "    </tr>\n",
       "    <tr>\n",
       "      <th>35-39</th>\n",
       "      <td>40</td>\n",
       "      <td>3.51</td>\n",
       "      <td>147.67</td>\n",
       "      <td>4.71</td>\n",
       "    </tr>\n",
       "    <tr>\n",
       "      <th>40+</th>\n",
       "      <td>13</td>\n",
       "      <td>3.06</td>\n",
       "      <td>38.24</td>\n",
       "      <td>3.15</td>\n",
       "    </tr>\n",
       "  </tbody>\n",
       "</table>\n",
       "</div>"
      ],
      "text/plain": [
       "            Purchase_Count  Average_Purchase_Price  Total_Purchase_Value  \\\n",
       "Age Ranges                                                                 \n",
       "<10                     23                    3.32                 77.13   \n",
       "10-14                   28                    2.93                 82.78   \n",
       "15-19                  127                    3.03                412.89   \n",
       "20-24                  306                    3.04              1,114.06   \n",
       "25-29                   91                    2.62                293.00   \n",
       "30-34                   72                    2.87                214.00   \n",
       "35-39                   40                    3.51                147.67   \n",
       "40+                     13                    3.06                 38.24   \n",
       "\n",
       "            Avg_Total_Purchase_per_Person  \n",
       "Age Ranges                                 \n",
       "<10                                  4.53  \n",
       "10-14                                3.65  \n",
       "15-19                                3.85  \n",
       "20-24                                4.30  \n",
       "25-29                                3.31  \n",
       "30-34                                4.01  \n",
       "35-39                                4.71  \n",
       "40+                                  3.15  "
      ]
     },
     "execution_count": 10,
     "metadata": {},
     "output_type": "execute_result"
    }
   ],
   "source": [
    "#Binning\n",
    "group_names = [\"<10\", \"10-14\", \"15-19\", \"20-24\",\"25-29\",\"30-34\",\"35-39\",\"40+\"]\n",
    "bins = [0,10,15,20,25,30,35,40,46]\n",
    "age_df[\"Age Ranges\"] = pd.cut(age_df[\"Age\"], bins=bins,right = False, labels=group_names)\n",
    "age_sum_df = age_df.groupby(\"Age Ranges\").agg(Purchase_Count = ('Number_of_Unique_Items', 'sum'),\n",
    "                                          Average_Purchase_Price = ('Average_Price_USD','mean'), \n",
    "                                          Total_Purchase_Value =('Purchase_Value_USD', 'sum'),\n",
    "                                          Avg_Total_Purchase_per_Person = ('Purchase_Value_per_Person', 'mean'))\n",
    "age_sum_df"
   ]
  },
  {
   "cell_type": "markdown",
   "metadata": {},
   "source": [
    "### Simple Prediction Model\n",
    "* Dependent variable: Purchase_Value\n",
    "* Independent variables: Age, Number of Players"
   ]
  },
  {
   "cell_type": "code",
   "execution_count": 11,
   "metadata": {},
   "outputs": [
    {
     "data": {
      "image/png": "[encoded data removed]",
      "text/plain": [
       "<Figure size 432x288 with 1 Axes>"
      ]
     },
     "metadata": {
      "needs_background": "light"
     },
     "output_type": "display_data"
    }
   ],
   "source": [
    "# Extract the actual data\n",
    "real_purchase = age_df['Purchase_Value_USD']\n",
    "age_df['Age_2']= age_df['Age']**2\n",
    "age_df['Number_of_Players_2']= age_df['Number_of_Players']**2 \n",
    "results = smf.ols('real_purchase ~ Age + Age_2 + Number_of_Players + Number_of_Players_2', data=age_df).fit()\n",
    "\n",
    "# Make the Prediction DataSet\n",
    "predict_df = pd.DataFrame()\n",
    "predict_df['Age'] = np.linspace(5, 45)\n",
    "predict_df['Number_of_Players'] = 5\n",
    "predict_df['Number_of_Players_2'] = predict_df['Number_of_Players']**2\n",
    "predict_df['Age_2'] = predict_df['Age']**2\n",
    "\n",
    "# Plot mean Purchase value in each age group\n",
    "plt.clf()\n",
    "plt.plot(real_purchase,'o', alpha=0.5)\n",
    "\n",
    "# Generate and plot the predictions\n",
    "pred = results.predict(predict_df)\n",
    "plt.plot(predict_df['Age'], pred, label='Number of players 5')\n",
    "plt.legend()\n",
    "plt.xlabel('Age')\n",
    "plt.ylabel('Purchase value, $')\n",
    "plt.ylim([15, 25])\n",
    "# plt.xlim([0, 40])\n",
    "plt.show()"
   ]
  },
  {
   "cell_type": "markdown",
   "metadata": {},
   "source": [
    "## Top Spenders"
   ]
  },
  {
   "cell_type": "code",
   "execution_count": 12,
   "metadata": {},
   "outputs": [
    {
     "data": {
      "text/html": [
       "<div>\n",
       "<style scoped>\n",
       "    .dataframe tbody tr th:only-of-type {\n",
       "        vertical-align: middle;\n",
       "    }\n",
       "\n",
       "    .dataframe tbody tr th {\n",
       "        vertical-align: top;\n",
       "    }\n",
       "\n",
       "    .dataframe thead th {\n",
       "        text-align: right;\n",
       "    }\n",
       "</style>\n",
       "<table border=\"1\" class=\"dataframe\">\n",
       "  <thead>\n",
       "    <tr style=\"text-align: right;\">\n",
       "      <th></th>\n",
       "      <th>Number_of_Purchases</th>\n",
       "      <th>Average_Price_USD</th>\n",
       "      <th>Purchase_Value_USD</th>\n",
       "    </tr>\n",
       "    <tr>\n",
       "      <th>SN</th>\n",
       "      <th></th>\n",
       "      <th></th>\n",
       "      <th></th>\n",
       "    </tr>\n",
       "  </thead>\n",
       "  <tbody>\n",
       "    <tr>\n",
       "      <th>Lisosia93</th>\n",
       "      <td>5</td>\n",
       "      <td>3.79</td>\n",
       "      <td>18.96</td>\n",
       "    </tr>\n",
       "    <tr>\n",
       "      <th>Idastidru52</th>\n",
       "      <td>4</td>\n",
       "      <td>3.86</td>\n",
       "      <td>15.45</td>\n",
       "    </tr>\n",
       "    <tr>\n",
       "      <th>Chamjask73</th>\n",
       "      <td>3</td>\n",
       "      <td>4.61</td>\n",
       "      <td>13.83</td>\n",
       "    </tr>\n",
       "    <tr>\n",
       "      <th>Iral74</th>\n",
       "      <td>4</td>\n",
       "      <td>3.40</td>\n",
       "      <td>13.62</td>\n",
       "    </tr>\n",
       "    <tr>\n",
       "      <th>Iskadarya95</th>\n",
       "      <td>3</td>\n",
       "      <td>4.37</td>\n",
       "      <td>13.10</td>\n",
       "    </tr>\n",
       "  </tbody>\n",
       "</table>\n",
       "</div>"
      ],
      "text/plain": [
       "             Number_of_Purchases  Average_Price_USD  Purchase_Value_USD\n",
       "SN                                                                     \n",
       "Lisosia93                      5               3.79               18.96\n",
       "Idastidru52                    4               3.86               15.45\n",
       "Chamjask73                     3               4.61               13.83\n",
       "Iral74                         4               3.40               13.62\n",
       "Iskadarya95                    3               4.37               13.10"
      ]
     },
     "execution_count": 12,
     "metadata": {},
     "output_type": "execute_result"
    }
   ],
   "source": [
    "spending_df = analysis('SN').filter(['Number_of_Purchases', 'Average_Price_USD', 'Purchase_Value_USD'])\n",
    "spending_df.sort_values('Purchase_Value_USD', ascending=False).head()"
   ]
  },
  {
   "cell_type": "markdown",
   "metadata": {},
   "source": [
    "## Most Popular Items"
   ]
  },
  {
   "cell_type": "code",
   "execution_count": 13,
   "metadata": {},
   "outputs": [
    {
     "data": {
      "text/html": [
       "<div>\n",
       "<style scoped>\n",
       "    .dataframe tbody tr th:only-of-type {\n",
       "        vertical-align: middle;\n",
       "    }\n",
       "\n",
       "    .dataframe tbody tr th {\n",
       "        vertical-align: top;\n",
       "    }\n",
       "\n",
       "    .dataframe thead th {\n",
       "        text-align: right;\n",
       "    }\n",
       "</style>\n",
       "<table border=\"1\" class=\"dataframe\">\n",
       "  <thead>\n",
       "    <tr style=\"text-align: right;\">\n",
       "      <th></th>\n",
       "      <th></th>\n",
       "      <th>Purchase_Count</th>\n",
       "      <th>Item_Price</th>\n",
       "      <th>Total_Purchase_Value</th>\n",
       "    </tr>\n",
       "    <tr>\n",
       "      <th>Item ID</th>\n",
       "      <th>Item Name</th>\n",
       "      <th></th>\n",
       "      <th></th>\n",
       "      <th></th>\n",
       "    </tr>\n",
       "  </thead>\n",
       "  <tbody>\n",
       "    <tr>\n",
       "      <th>92</th>\n",
       "      <th>Final Critic</th>\n",
       "      <td>13</td>\n",
       "      <td>4.61</td>\n",
       "      <td>59.99</td>\n",
       "    </tr>\n",
       "    <tr>\n",
       "      <th>178</th>\n",
       "      <th>Oathbreaker, Last Hope of the Breaking Storm</th>\n",
       "      <td>12</td>\n",
       "      <td>4.23</td>\n",
       "      <td>50.76</td>\n",
       "    </tr>\n",
       "    <tr>\n",
       "      <th>145</th>\n",
       "      <th>Fiery Glass Crusader</th>\n",
       "      <td>9</td>\n",
       "      <td>4.58</td>\n",
       "      <td>41.22</td>\n",
       "    </tr>\n",
       "    <tr>\n",
       "      <th>132</th>\n",
       "      <th>Persuasion</th>\n",
       "      <td>9</td>\n",
       "      <td>3.22</td>\n",
       "      <td>28.99</td>\n",
       "    </tr>\n",
       "    <tr>\n",
       "      <th>108</th>\n",
       "      <th>Extraction, Quickblade Of Trembling Hands</th>\n",
       "      <td>9</td>\n",
       "      <td>3.53</td>\n",
       "      <td>31.77</td>\n",
       "    </tr>\n",
       "  </tbody>\n",
       "</table>\n",
       "</div>"
      ],
      "text/plain": [
       "                                                      Purchase_Count  \\\n",
       "Item ID Item Name                                                      \n",
       "92      Final Critic                                              13   \n",
       "178     Oathbreaker, Last Hope of the Breaking Storm              12   \n",
       "145     Fiery Glass Crusader                                       9   \n",
       "132     Persuasion                                                 9   \n",
       "108     Extraction, Quickblade Of Trembling Hands                  9   \n",
       "\n",
       "                                                      Item_Price  \\\n",
       "Item ID Item Name                                                  \n",
       "92      Final Critic                                        4.61   \n",
       "178     Oathbreaker, Last Hope of the Breaking Storm        4.23   \n",
       "145     Fiery Glass Crusader                                4.58   \n",
       "132     Persuasion                                          3.22   \n",
       "108     Extraction, Quickblade Of Trembling Hands           3.53   \n",
       "\n",
       "                                                      Total_Purchase_Value  \n",
       "Item ID Item Name                                                           \n",
       "92      Final Critic                                                 59.99  \n",
       "178     Oathbreaker, Last Hope of the Breaking Storm                 50.76  \n",
       "145     Fiery Glass Crusader                                         41.22  \n",
       "132     Persuasion                                                   28.99  \n",
       "108     Extraction, Quickblade Of Trembling Hands                    31.77  "
      ]
     },
     "execution_count": 13,
     "metadata": {},
     "output_type": "execute_result"
    }
   ],
   "source": [
    "popular_df = purchase_data.filter(['Item ID', 'Item Name', 'Price'])\n",
    "popular_df = popular_df.groupby(['Item ID', 'Item Name']).agg(Purchase_Count=('Price', 'count'),\n",
    "                                                              Item_Price = (\"Price\", 'mean'),\n",
    "                                                             Total_Purchase_Value=('Price', 'sum'))\n",
    "popular_df.sort_values('Purchase_Count', ascending=False).head()"
   ]
  },
  {
   "cell_type": "markdown",
   "metadata": {},
   "source": [
    "## Most Profitable Items"
   ]
  },
  {
   "cell_type": "code",
   "execution_count": 14,
   "metadata": {
    "scrolled": true
   },
   "outputs": [
    {
     "data": {
      "text/html": [
       "<div>\n",
       "<style scoped>\n",
       "    .dataframe tbody tr th:only-of-type {\n",
       "        vertical-align: middle;\n",
       "    }\n",
       "\n",
       "    .dataframe tbody tr th {\n",
       "        vertical-align: top;\n",
       "    }\n",
       "\n",
       "    .dataframe thead th {\n",
       "        text-align: right;\n",
       "    }\n",
       "</style>\n",
       "<table border=\"1\" class=\"dataframe\">\n",
       "  <thead>\n",
       "    <tr style=\"text-align: right;\">\n",
       "      <th></th>\n",
       "      <th></th>\n",
       "      <th>Purchase_Count</th>\n",
       "      <th>Item_Price</th>\n",
       "      <th>Total_Purchase_Value</th>\n",
       "    </tr>\n",
       "    <tr>\n",
       "      <th>Item ID</th>\n",
       "      <th>Item Name</th>\n",
       "      <th></th>\n",
       "      <th></th>\n",
       "      <th></th>\n",
       "    </tr>\n",
       "  </thead>\n",
       "  <tbody>\n",
       "    <tr>\n",
       "      <th>92</th>\n",
       "      <th>Final Critic</th>\n",
       "      <td>13</td>\n",
       "      <td>4.61</td>\n",
       "      <td>59.99</td>\n",
       "    </tr>\n",
       "    <tr>\n",
       "      <th>178</th>\n",
       "      <th>Oathbreaker, Last Hope of the Breaking Storm</th>\n",
       "      <td>12</td>\n",
       "      <td>4.23</td>\n",
       "      <td>50.76</td>\n",
       "    </tr>\n",
       "    <tr>\n",
       "      <th>82</th>\n",
       "      <th>Nirvana</th>\n",
       "      <td>9</td>\n",
       "      <td>4.90</td>\n",
       "      <td>44.10</td>\n",
       "    </tr>\n",
       "    <tr>\n",
       "      <th>145</th>\n",
       "      <th>Fiery Glass Crusader</th>\n",
       "      <td>9</td>\n",
       "      <td>4.58</td>\n",
       "      <td>41.22</td>\n",
       "    </tr>\n",
       "    <tr>\n",
       "      <th>103</th>\n",
       "      <th>Singed Scalpel</th>\n",
       "      <td>8</td>\n",
       "      <td>4.35</td>\n",
       "      <td>34.80</td>\n",
       "    </tr>\n",
       "  </tbody>\n",
       "</table>\n",
       "</div>"
      ],
      "text/plain": [
       "                                                      Purchase_Count  \\\n",
       "Item ID Item Name                                                      \n",
       "92      Final Critic                                              13   \n",
       "178     Oathbreaker, Last Hope of the Breaking Storm              12   \n",
       "82      Nirvana                                                    9   \n",
       "145     Fiery Glass Crusader                                       9   \n",
       "103     Singed Scalpel                                             8   \n",
       "\n",
       "                                                      Item_Price  \\\n",
       "Item ID Item Name                                                  \n",
       "92      Final Critic                                        4.61   \n",
       "178     Oathbreaker, Last Hope of the Breaking Storm        4.23   \n",
       "82      Nirvana                                             4.90   \n",
       "145     Fiery Glass Crusader                                4.58   \n",
       "103     Singed Scalpel                                      4.35   \n",
       "\n",
       "                                                      Total_Purchase_Value  \n",
       "Item ID Item Name                                                           \n",
       "92      Final Critic                                                 59.99  \n",
       "178     Oathbreaker, Last Hope of the Breaking Storm                 50.76  \n",
       "82      Nirvana                                                      44.10  \n",
       "145     Fiery Glass Crusader                                         41.22  \n",
       "103     Singed Scalpel                                               34.80  "
      ]
     },
     "execution_count": 14,
     "metadata": {},
     "output_type": "execute_result"
    }
   ],
   "source": [
    "popular_df.sort_values('Total_Purchase_Value', ascending=False).head()"
   ]
  },
  {
   "cell_type": "code",
   "execution_count": 15,
   "metadata": {},
   "outputs": [
    {
     "name": "stdout",
     "output_type": "stream",
     "text": [
      "Result calculated in 0.83 sec\n"
     ]
    }
   ],
   "source": [
    "# record time after execution\n",
    "end_time = time.time()\n",
    "print(\"Result calculated in {:,.2f} sec\".format(end_time - start_time))"
   ]
  }
 ],
 "metadata": {
  "anaconda-cloud": {},
  "kernel_info": {
   "name": "python3"
  },
  "kernelspec": {
   "display_name": "Python 3",
   "language": "python",
   "name": "python3"
  },
  "language_info": {
   "codemirror_mode": {
    "name": "ipython",
    "version": 3
   },
   "file_extension": ".py",
   "mimetype": "text/x-python",
   "name": "python",
   "nbconvert_exporter": "python",
   "pygments_lexer": "ipython3",
   "version": "3.8.2"
  },
  "latex_envs": {
   "LaTeX_envs_menu_present": true,
   "autoclose": false,
   "autocomplete": true,
   "bibliofile": "biblio.bib",
   "cite_by": "apalike",
   "current_citInitial": 1,
   "eqLabelWithNumbers": true,
   "eqNumInitial": 1,
   "hotkeys": {
    "equation": "Ctrl-E",
    "itemize": "Ctrl-I"
   },
   "labels_anchors": false,
   "latex_user_defs": false,
   "report_style_numbering": false,
   "user_envs_cfg": false
  },
  "nteract": {
   "version": "0.2.0"
  }
 },
 "nbformat": 4,
 "nbformat_minor": 4
}
